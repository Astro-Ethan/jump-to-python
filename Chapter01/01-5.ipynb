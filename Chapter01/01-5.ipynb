{
 "cells": [
  {
   "cell_type": "markdown",
   "metadata": {},
   "source": [
    "# 사칙연산"
   ]
  },
  {
   "cell_type": "code",
   "execution_count": 1,
   "metadata": {},
   "outputs": [
    {
     "data": {
      "text/plain": [
       "47"
      ]
     },
     "execution_count": 1,
     "metadata": {},
     "output_type": "execute_result"
    }
   ],
   "source": [
    "12+35"
   ]
  },
  {
   "cell_type": "code",
   "execution_count": 3,
   "metadata": {},
   "outputs": [
    {
     "data": {
      "text/plain": [
       "7"
      ]
     },
     "execution_count": 3,
     "metadata": {},
     "output_type": "execute_result"
    }
   ],
   "source": [
    "78//11\n"
   ]
  },
  {
   "cell_type": "markdown",
   "metadata": {},
   "source": [
    "# 변수에 숫자 대입하고 계산하기\n"
   ]
  },
  {
   "cell_type": "code",
   "execution_count": 5,
   "metadata": {},
   "outputs": [
    {
     "data": {
      "text/plain": [
       "7"
      ]
     },
     "execution_count": 5,
     "metadata": {},
     "output_type": "execute_result"
    }
   ],
   "source": [
    "a=3\n",
    "b=4\n",
    "a+b"
   ]
  },
  {
   "cell_type": "markdown",
   "metadata": {},
   "source": [
    "# 변수에 문자 대입하고 출력하기"
   ]
  },
  {
   "cell_type": "code",
   "execution_count": 6,
   "metadata": {},
   "outputs": [],
   "source": [
    "a=\" 나 살려줘! 너무 힘들어 ㅠㅠ \""
   ]
  },
  {
   "cell_type": "markdown",
   "metadata": {},
   "source": [
    "# 조건문 if"
   ]
  },
  {
   "cell_type": "code",
   "execution_count": 7,
   "metadata": {},
   "outputs": [
    {
     "name": "stdout",
     "output_type": "stream",
     "text": [
      "살려줘!!!!!!!!!!!!!!!!!!!!!!!!!!!!!!!!!!!!!!!\n"
     ]
    }
   ],
   "source": [
    "a = int (input())\n",
    "if a > 67:\n",
    "    print(\"살려줘!!!!!!!!!!!!!!!!!!!!!!!!!!!!!!!!!!!!!!!\")"
   ]
  },
  {
   "cell_type": "markdown",
   "metadata": {},
   "source": [
    "# 반복문"
   ]
  },
  {
   "cell_type": "code",
   "execution_count": 10,
   "metadata": {},
   "outputs": [
    {
     "name": "stdout",
     "output_type": "stream",
     "text": [
      "999999999999999999999\n",
      "888888888888888888888\n",
      "777777777777777777777\n"
     ]
    }
   ],
   "source": [
    "#for\n",
    "for sos in [999999999999999999999, 888888888888888888888, 777777777777777777777]:\n",
    "    print(sos)"
   ]
  },
  {
   "cell_type": "code",
   "execution_count": 12,
   "metadata": {},
   "outputs": [
    {
     "name": "stdout",
     "output_type": "stream",
     "text": [
      "34.5\n",
      "35.0\n",
      "35.5\n",
      "36.0\n",
      "36.5\n",
      "37.0\n",
      "37.5\n",
      "38.0\n",
      "38.5\n",
      "39.0\n",
      "39.5\n",
      "40.0\n",
      "40.5\n",
      "41.0\n",
      "41.5\n",
      "42.0\n",
      "42.5\n",
      "43.0\n",
      "43.5\n",
      "44.0\n",
      "44.5\n",
      "45.0\n",
      "45.5\n",
      "46.0\n",
      "46.5\n",
      "47.0\n",
      "47.5\n",
      "48.0\n",
      "48.5\n",
      "49.0\n",
      "49.5\n",
      "50.0\n",
      "50.5\n",
      "51.0\n",
      "51.5\n",
      "52.0\n",
      "52.5\n",
      "53.0\n",
      "53.5\n",
      "54.0\n",
      "54.5\n",
      "55.0\n",
      "55.5\n",
      "56.0\n",
      "56.5\n",
      "57.0\n",
      "57.5\n",
      "58.0\n",
      "58.5\n",
      "59.0\n",
      "59.5\n",
      "60.0\n",
      "60.5\n",
      "61.0\n",
      "61.5\n",
      "62.0\n",
      "62.5\n",
      "63.0\n",
      "63.5\n",
      "64.0\n",
      "64.5\n",
      "65.0\n",
      "65.5\n",
      "66.0\n",
      "66.5\n",
      "67.0\n",
      "67.5\n",
      "68.0\n",
      "68.5\n",
      "69.0\n",
      "69.5\n",
      "70.0\n",
      "70.5\n",
      "71.0\n",
      "71.5\n",
      "72.0\n",
      "72.5\n",
      "73.0\n",
      "73.5\n",
      "74.0\n",
      "74.5\n",
      "75.0\n",
      "75.5\n",
      "76.0\n",
      "76.5\n",
      "77.0\n",
      "77.5\n",
      "78.0\n",
      "78.5\n",
      "79.0\n",
      "79.5\n",
      "80.0\n",
      "80.5\n",
      "81.0\n",
      "81.5\n",
      "82.0\n",
      "82.5\n",
      "83.0\n",
      "83.5\n",
      "84.0\n",
      "84.5\n",
      "85.0\n",
      "85.5\n",
      "86.0\n",
      "86.5\n",
      "87.0\n",
      "87.5\n",
      "88.0\n",
      "88.5\n",
      "89.0\n",
      "89.5\n",
      "90.0\n",
      "90.5\n",
      "91.0\n",
      "91.5\n",
      "92.0\n",
      "92.5\n",
      "93.0\n",
      "93.5\n",
      "94.0\n",
      "94.5\n",
      "95.0\n",
      "95.5\n",
      "96.0\n",
      "96.5\n",
      "97.0\n",
      "97.5\n",
      "98.0\n",
      "98.5\n",
      "99.0\n",
      "99.5\n",
      "100.0\n",
      "100.5\n",
      "101.0\n",
      "101.5\n",
      "102.0\n",
      "102.5\n",
      "103.0\n",
      "103.5\n",
      "104.0\n",
      "104.5\n",
      "105.0\n",
      "105.5\n",
      "106.0\n",
      "106.5\n",
      "107.0\n",
      "107.5\n",
      "108.0\n",
      "108.5\n",
      "109.0\n",
      "109.5\n",
      "110.0\n",
      "110.5\n",
      "111.0\n",
      "111.5\n",
      "112.0\n",
      "112.5\n",
      "113.0\n",
      "113.5\n",
      "114.0\n",
      "114.5\n",
      "115.0\n",
      "115.5\n",
      "116.0\n",
      "116.5\n",
      "117.0\n",
      "117.5\n",
      "118.0\n",
      "118.5\n",
      "119.0\n",
      "119.5\n",
      "120.0\n",
      "120.5\n",
      "121.0\n",
      "121.5\n",
      "122.0\n",
      "122.5\n",
      "123.0\n",
      "123.5\n",
      "124.0\n",
      "124.5\n",
      "125.0\n",
      "125.5\n",
      "126.0\n",
      "126.5\n",
      "127.0\n",
      "127.5\n",
      "128.0\n",
      "128.5\n",
      "129.0\n",
      "129.5\n",
      "130.0\n",
      "130.5\n",
      "131.0\n",
      "131.5\n",
      "132.0\n",
      "132.5\n",
      "133.0\n",
      "133.5\n",
      "134.0\n",
      "134.5\n",
      "135.0\n",
      "135.5\n",
      "136.0\n",
      "136.5\n",
      "137.0\n",
      "137.5\n",
      "138.0\n",
      "138.5\n",
      "139.0\n",
      "139.5\n",
      "140.0\n",
      "140.5\n",
      "141.0\n",
      "141.5\n",
      "142.0\n",
      "142.5\n",
      "143.0\n",
      "143.5\n",
      "144.0\n",
      "144.5\n",
      "145.0\n",
      "145.5\n",
      "146.0\n",
      "146.5\n",
      "147.0\n",
      "147.5\n",
      "148.0\n",
      "148.5\n",
      "149.0\n",
      "149.5\n",
      "150.0\n"
     ]
    }
   ],
   "source": [
    "#while\n",
    "n=34\n",
    "while n < 150:\n",
    "    n=n+0.5\n",
    "    print(n)"
   ]
  },
  {
   "cell_type": "markdown",
   "metadata": {},
   "source": [
    "# 함수"
   ]
  },
  {
   "cell_type": "code",
   "execution_count": 13,
   "metadata": {},
   "outputs": [
    {
     "data": {
      "text/plain": [
       "7"
      ]
     },
     "execution_count": 13,
     "metadata": {},
     "output_type": "execute_result"
    }
   ],
   "source": [
    "def add(a, b):\n",
    "     return a+b\n",
    "...\n",
    "add(3,4)\n",
    "\n"
   ]
  }
 ],
 "metadata": {
  "kernelspec": {
   "display_name": "Python 3",
   "language": "python",
   "name": "python3"
  },
  "language_info": {
   "codemirror_mode": {
    "name": "ipython",
    "version": 3
   },
   "file_extension": ".py",
   "mimetype": "text/x-python",
   "name": "python",
   "nbconvert_exporter": "python",
   "pygments_lexer": "ipython3",
   "version": "3.11.1"
  },
  "orig_nbformat": 4
 },
 "nbformat": 4,
 "nbformat_minor": 2
}
